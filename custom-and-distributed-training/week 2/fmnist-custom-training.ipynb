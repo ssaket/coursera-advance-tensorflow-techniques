{
 "cells": [
  {
   "cell_type": "code",
   "execution_count": 44,
   "metadata": {},
   "outputs": [],
   "source": [
    "import tensorflow as tf\n",
    "from tensorflow.keras.layers import Dense, Input\n",
    "from tensorflow.keras.models import Model"
   ]
  },
  {
   "cell_type": "code",
   "execution_count": 45,
   "metadata": {},
   "outputs": [],
   "source": [
    "def base_model():\n",
    "    inputs = Input(shape=(784,), name='clothing')\n",
    "    x = Dense(64, activation='relu', name='dense_1')(inputs)\n",
    "    x = Dense(64, activation='relu', name='dense_2')(x)\n",
    "    output = Dense(10, activation='softmax', name='prediction')(x)\n",
    "    model = Model(inputs, output)\n",
    "    return model"
   ]
  },
  {
   "cell_type": "code",
   "execution_count": 46,
   "metadata": {},
   "outputs": [],
   "source": [
    "import tensorflow_datasets as tfds\n",
    "train_data = tfds.load('fashion_mnist', split='train');\n",
    "test_data = tfds.load('fashion_mnist', split='test');"
   ]
  },
  {
   "cell_type": "code",
   "execution_count": 47,
   "metadata": {},
   "outputs": [],
   "source": [
    "def format_image(data):\n",
    "    image = data['image']\n",
    "    image = tf.reshape(image, [-1])\n",
    "    image = tf.cast(image, tf.float32)\n",
    "    image = image / 255.0\n",
    "    return image, data['label']"
   ]
  },
  {
   "cell_type": "code",
   "execution_count": 48,
   "metadata": {},
   "outputs": [],
   "source": [
    "train_data = train_data.map(format_image)\n",
    "test_data = test_data.map(format_image)"
   ]
  },
  {
   "cell_type": "code",
   "execution_count": 49,
   "metadata": {},
   "outputs": [],
   "source": [
    "BATCH_SIZE = 64\n",
    "train = train_data.shuffle(buffer_size=1024).batch(BATCH_SIZE)\n",
    "test = test_data.batch(BATCH_SIZE)"
   ]
  },
  {
   "cell_type": "code",
   "execution_count": 50,
   "metadata": {},
   "outputs": [],
   "source": [
    "from tensorflow.keras.losses import SparseCategoricalCrossentropy\n",
    "from tensorflow.keras.optimizers import Adam\n",
    "from tensorflow.keras.metrics import SparseCategoricalAccuracy\n",
    "\n",
    "loss_object = SparseCategoricalCrossentropy()\n",
    "optimizer = Adam()\n",
    "train_acc_metrics = SparseCategoricalAccuracy()\n",
    "val_acc_metrics = SparseCategoricalAccuracy()"
   ]
  },
  {
   "cell_type": "code",
   "execution_count": 51,
   "metadata": {},
   "outputs": [],
   "source": [
    "def apply_gradient(optimizer, model, x, y):\n",
    "    with tf.GradientTape() as t:\n",
    "        logits = model(x)\n",
    "        loss_value = loss_object(y_true=y, y_pred=logits)\n",
    "    gradients = t.gradient(loss_value, model.trainable_weights)\n",
    "    optimizer.apply_gradients(zip(gradients, model.trainable_weights))\n",
    "\n",
    "    return logits, loss_value"
   ]
  },
  {
   "cell_type": "code",
   "execution_count": 52,
   "metadata": {},
   "outputs": [],
   "source": [
    "def train_data_one_epoch(model, train):\n",
    "    losses = []\n",
    "    for step, (x_batch_train, y_batch_train) in enumerate(train):\n",
    "        logits, loss_value = apply_gradient(optimizer, model, x_batch_train,  y_batch_train)\n",
    "        losses.append(loss_value)\n",
    "\n",
    "        train_acc_metrics.update_state(y_batch_train, logits)\n",
    "    return losses"
   ]
  },
  {
   "cell_type": "code",
   "execution_count": 53,
   "metadata": {},
   "outputs": [],
   "source": [
    "def perform_validation(model, test):\n",
    "    losses = []\n",
    "    for x_val, y_val in test:\n",
    "        val_logits = model(x_val)\n",
    "        val_loss = loss_object(y_true=y_val, y_pred=val_logits)\n",
    "        losses.append(val_loss)\n",
    "\n",
    "        val_acc_metrics.update_state(y_val, val_logits)\n",
    "    return losses"
   ]
  },
  {
   "cell_type": "code",
   "execution_count": 54,
   "metadata": {},
   "outputs": [],
   "source": [
    "import numpy as np\n",
    "def begin_train(model, epochs, train, test):\n",
    "    for epoch in epochs:\n",
    "        losses_train = train_data_one_epoch(model, train)\n",
    "        train_acc = train_acc_metrics.result()\n",
    "        train_acc_metrics.reset_states()\n",
    "\n",
    "        losses_val = perform_validation(model, test)\n",
    "        val_acc = val_acc_metrics.result()\n",
    "        val_acc_metrics.reset_states()\n",
    "\n",
    "        losses_train_mean = np.mean(losses_train)\n",
    "        losses_val_mean = np.mean(losses_val)\n",
    "\n",
    "        print(\"Epoch {}, train loss {}, val loss {}, Train accuracy {}, Validation accuray {}\".format(epoch, losses_train_mean, losses_val_mean, train_acc, val_acc))"
   ]
  },
  {
   "cell_type": "code",
   "execution_count": 55,
   "metadata": {},
   "outputs": [
    {
     "name": "stdout",
     "output_type": "stream",
     "text": [
      "Epoch 0, train loss 0.5405731797218323, val loss 0.44456884264945984, Train accuracy 0.8128833174705505, Validation accuray 0.8428999781608582\n",
      "Epoch 1, train loss 0.3892807364463806, val loss 0.3921355605125427, Train accuracy 0.8613499999046326, Validation accuray 0.8610000014305115\n",
      "Epoch 2, train loss 0.34948259592056274, val loss 0.3882937729358673, Train accuracy 0.8730000257492065, Validation accuray 0.8622999787330627\n",
      "Epoch 3, train loss 0.32622265815734863, val loss 0.37648868560791016, Train accuracy 0.8809000253677368, Validation accuray 0.8684999942779541\n",
      "Epoch 4, train loss 0.31022340059280396, val loss 0.3717998266220093, Train accuracy 0.885283350944519, Validation accuray 0.8740000128746033\n",
      "Epoch 5, train loss 0.2966555655002594, val loss 0.352491170167923, Train accuracy 0.8899666666984558, Validation accuray 0.8787000179290771\n",
      "Epoch 6, train loss 0.2831208109855652, val loss 0.3523012399673462, Train accuracy 0.8944166898727417, Validation accuray 0.8776000142097473\n",
      "Epoch 7, train loss 0.273486852645874, val loss 0.3544062376022339, Train accuracy 0.8983666896820068, Validation accuray 0.8773999810218811\n",
      "Epoch 8, train loss 0.2641656994819641, val loss 0.35636869072914124, Train accuracy 0.9013166427612305, Validation accuray 0.8781999945640564\n",
      "Epoch 9, train loss 0.2546260356903076, val loss 0.36672887206077576, Train accuracy 0.9050833582878113, Validation accuray 0.8745999932289124\n",
      "Epoch 10, train loss 0.24936218559741974, val loss 0.34893739223480225, Train accuracy 0.9071333408355713, Validation accuray 0.8804000020027161\n",
      "Epoch 11, train loss 0.24167844653129578, val loss 0.3550907373428345, Train accuracy 0.9090833067893982, Validation accuray 0.8813999891281128\n",
      "Epoch 12, train loss 0.23269633948802948, val loss 0.36546215415000916, Train accuracy 0.9136666655540466, Validation accuray 0.8808000087738037\n",
      "Epoch 13, train loss 0.22756896913051605, val loss 0.34917187690734863, Train accuracy 0.9157500267028809, Validation accuray 0.8845000267028809\n",
      "Epoch 14, train loss 0.22356615960597992, val loss 0.3696010708808899, Train accuracy 0.9162999987602234, Validation accuray 0.8766000270843506\n",
      "Epoch 15, train loss 0.21717886626720428, val loss 0.36437755823135376, Train accuracy 0.9188833236694336, Validation accuray 0.8787000179290771\n",
      "Epoch 16, train loss 0.21211741864681244, val loss 0.3561827540397644, Train accuracy 0.9200500249862671, Validation accuray 0.8880000114440918\n",
      "Epoch 17, train loss 0.20617498457431793, val loss 0.35605451464653015, Train accuracy 0.9226833581924438, Validation accuray 0.8863999843597412\n",
      "Epoch 18, train loss 0.20405755937099457, val loss 0.3735738694667816, Train accuracy 0.923799991607666, Validation accuray 0.8851000070571899\n",
      "Epoch 19, train loss 0.19848893582820892, val loss 0.3632259964942932, Train accuracy 0.9254833459854126, Validation accuray 0.8866000175476074\n"
     ]
    }
   ],
   "source": [
    "begin_train(base_model(), range(20), train, test)"
   ]
  }
 ],
 "metadata": {
  "interpreter": {
   "hash": "1cfb9b8fc2aa05cd2f03010444f4bf2bf517d2be05582e3f9faf36ad25271df3"
  },
  "kernelspec": {
   "display_name": "Python 3.7.7 64-bit (system)",
   "language": "python",
   "name": "python3"
  },
  "language_info": {
   "codemirror_mode": {
    "name": "ipython",
    "version": 3
   },
   "file_extension": ".py",
   "mimetype": "text/x-python",
   "name": "python",
   "nbconvert_exporter": "python",
   "pygments_lexer": "ipython3",
   "version": "3.7.7"
  },
  "orig_nbformat": 4
 },
 "nbformat": 4,
 "nbformat_minor": 2
}
