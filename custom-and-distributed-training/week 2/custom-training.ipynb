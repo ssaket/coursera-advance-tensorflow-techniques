{
 "cells": [
  {
   "cell_type": "code",
   "execution_count": 1,
   "metadata": {},
   "outputs": [],
   "source": [
    "import tensorflow as tf\n",
    "from tensorflow.keras.layers import Dense\n",
    "from tensorflow.keras.models import Model"
   ]
  },
  {
   "cell_type": "code",
   "execution_count": 8,
   "metadata": {},
   "outputs": [],
   "source": [
    "class Model():\n",
    "    def __init__(self):\n",
    "        self.w = tf.Variable(3.0)\n",
    "        self.b = tf.Variable(0.0)\n",
    "\n",
    "    def __call__(self, x):\n",
    "        return self.w * x + self.b\n",
    "model = Model()"
   ]
  },
  {
   "cell_type": "code",
   "execution_count": 9,
   "metadata": {},
   "outputs": [],
   "source": [
    "TRUE_W = 3.0\n",
    "TRUE_B = 2.0\n",
    "NUMBER_EXAMPLES = 1000\n",
    "\n",
    "random_xs = tf.random.normal(shape=[NUMBER_EXAMPLES])\n",
    "ys = (TRUE_W * random_xs) + TRUE_B"
   ]
  },
  {
   "cell_type": "code",
   "execution_count": 10,
   "metadata": {},
   "outputs": [],
   "source": [
    "def loss(y_true, y_pred):\n",
    "    return tf.reduce_mean(tf.square(y_true - y_pred))"
   ]
  },
  {
   "cell_type": "code",
   "execution_count": 12,
   "metadata": {},
   "outputs": [],
   "source": [
    "def train(model, inputs, outputs, learning_rate):\n",
    "    with tf.GradientTape() as t:\n",
    "        current_loss = loss(outputs, model(inputs))\n",
    "    dw, db = t.gradient(current_loss, [model.w, model.b])\n",
    "\n",
    "    model.w.assign_sub(learning_rate * dw)\n",
    "    model.b.assign_sub(learning_rate * db)\n",
    "    \n",
    "    return current_loss\n"
   ]
  },
  {
   "cell_type": "code",
   "execution_count": 13,
   "metadata": {},
   "outputs": [
    {
     "name": "stdout",
     "output_type": "stream",
     "text": [
      "Epoch 0: w: 3.0, b: 0.0, loss: 4.0\n",
      "Epoch 1: w: 3.0157978534698486, b: 0.4000000059604645, loss: 2.558248996734619\n",
      "Epoch 2: w: 3.0253262519836426, b: 0.7198752164840698, loss: 1.6367897987365723\n",
      "Epoch 3: w: 3.030452013015747, b: 0.9757001399993896, loss: 1.0476391315460205\n",
      "Epoch 4: w: 3.032547950744629, b: 1.1803195476531982, loss: 0.6708115339279175\n",
      "Epoch 5: w: 3.0326149463653564, b: 1.3439985513687134, loss: 0.4296949505805969\n",
      "Epoch 6: w: 3.0313758850097656, b: 1.4749412536621094, loss: 0.27535444498062134\n",
      "Epoch 7: w: 3.029346466064453, b: 1.5797051191329956, loss: 0.1765212118625641\n",
      "Epoch 8: w: 3.0268890857696533, b: 1.6635322570800781, loss: 0.11320758610963821\n",
      "Epoch 9: w: 3.0242533683776855, b: 1.7306134700775146, loss: 0.07263202965259552\n",
      "Epoch 10: w: 3.021606683731079, b: 1.7842992544174194, loss: 0.046618200838565826\n",
      "Epoch 11: w: 3.019056797027588, b: 1.8272687196731567, loss: 0.029933562502264977\n",
      "Epoch 12: w: 3.016669511795044, b: 1.8616644144058228, loss: 0.019228104501962662\n",
      "Epoch 13: w: 3.0144805908203125, b: 1.8891998529434204, loss: 0.012356342747807503\n",
      "Epoch 14: w: 3.012505054473877, b: 1.9112454652786255, loss: 0.007943627424538136\n",
      "Epoch 15: w: 3.010744333267212, b: 1.9288976192474365, loss: 0.005108836572617292\n",
      "Epoch 16: w: 3.009190797805786, b: 1.943033218383789, loss: 0.0032870047725737095\n",
      "Epoch 17: w: 3.007831335067749, b: 1.954353928565979, loss: 0.0021156975999474525\n",
      "Epoch 18: w: 3.00665020942688, b: 1.96342134475708, loss: 0.0013623156119138002\n",
      "Epoch 19: w: 3.0056300163269043, b: 1.97068452835083, loss: 0.0008775601745583117\n"
     ]
    }
   ],
   "source": [
    "list_w, list_b, losses = [], [], []\n",
    "epochs = range(20)\n",
    "for epoch in epochs:\n",
    "    list_w.append(model.w.numpy())\n",
    "    list_b.append(model.b.numpy())\n",
    "    current_loss = train(model, random_xs, ys, 0.1)\n",
    "    losses.append(current_loss)\n",
    "\n",
    "    print(\"Epoch {}: w: {}, b: {}, loss: {}\".format(epoch, list_w[-1], list_b[-1], current_loss))"
   ]
  },
  {
   "cell_type": "code",
   "execution_count": null,
   "metadata": {},
   "outputs": [],
   "source": []
  }
 ],
 "metadata": {
  "interpreter": {
   "hash": "1cfb9b8fc2aa05cd2f03010444f4bf2bf517d2be05582e3f9faf36ad25271df3"
  },
  "kernelspec": {
   "display_name": "Python 3.7.7 64-bit (system)",
   "language": "python",
   "name": "python3"
  },
  "language_info": {
   "codemirror_mode": {
    "name": "ipython",
    "version": 3
   },
   "file_extension": ".py",
   "mimetype": "text/x-python",
   "name": "python",
   "nbconvert_exporter": "python",
   "pygments_lexer": "ipython3",
   "version": "3.7.7"
  },
  "orig_nbformat": 4
 },
 "nbformat": 4,
 "nbformat_minor": 2
}
