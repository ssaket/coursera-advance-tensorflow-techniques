{
 "cells": [
  {
   "cell_type": "code",
   "execution_count": 1,
   "metadata": {},
   "outputs": [],
   "source": [
    "import pandas as pd\n",
    "import numpy as np\n",
    "from custom_data_gen import CustomDataGen"
   ]
  },
  {
   "cell_type": "code",
   "execution_count": 2,
   "metadata": {},
   "outputs": [
    {
     "data": {
      "text/plain": [
       "Unnamed: 0             int64\n",
       "image_file_path       object\n",
       "fixation_file_path    object\n",
       "image_width            int64\n",
       "image_height           int64\n",
       "center_loc_x           int64\n",
       "center_loc_y           int64\n",
       "is_salient             int64\n",
       "label                 object\n",
       "dtype: object"
      ]
     },
     "execution_count": 2,
     "metadata": {},
     "output_type": "execute_result"
    }
   ],
   "source": [
    "df = pd.read_csv(\"torronto_df.csv\").reset_index(drop=True)\n",
    "df.dtypes"
   ]
  },
  {
   "cell_type": "code",
   "execution_count": 3,
   "metadata": {},
   "outputs": [
    {
     "data": {
      "text/html": [
       "<div>\n",
       "<style scoped>\n",
       "    .dataframe tbody tr th:only-of-type {\n",
       "        vertical-align: middle;\n",
       "    }\n",
       "\n",
       "    .dataframe tbody tr th {\n",
       "        vertical-align: top;\n",
       "    }\n",
       "\n",
       "    .dataframe thead th {\n",
       "        text-align: right;\n",
       "    }\n",
       "</style>\n",
       "<table border=\"1\" class=\"dataframe\">\n",
       "  <thead>\n",
       "    <tr style=\"text-align: right;\">\n",
       "      <th></th>\n",
       "      <th>Unnamed: 0</th>\n",
       "      <th>image_file_path</th>\n",
       "      <th>fixation_file_path</th>\n",
       "      <th>image_width</th>\n",
       "      <th>image_height</th>\n",
       "      <th>center_loc_x</th>\n",
       "      <th>center_loc_y</th>\n",
       "      <th>is_salient</th>\n",
       "      <th>label</th>\n",
       "    </tr>\n",
       "  </thead>\n",
       "  <tbody>\n",
       "    <tr>\n",
       "      <th>0</th>\n",
       "      <td>0</td>\n",
       "      <td>data\\toronto\\fixdens\\images\\1.jpg</td>\n",
       "      <td>data\\toronto\\fixdens\\output\\d1.jpg</td>\n",
       "      <td>681</td>\n",
       "      <td>511</td>\n",
       "      <td>355</td>\n",
       "      <td>387</td>\n",
       "      <td>1</td>\n",
       "      <td>salient</td>\n",
       "    </tr>\n",
       "    <tr>\n",
       "      <th>1</th>\n",
       "      <td>1</td>\n",
       "      <td>data\\toronto\\fixdens\\images\\1.jpg</td>\n",
       "      <td>data\\toronto\\fixdens\\output\\d1.jpg</td>\n",
       "      <td>681</td>\n",
       "      <td>511</td>\n",
       "      <td>355</td>\n",
       "      <td>390</td>\n",
       "      <td>1</td>\n",
       "      <td>salient</td>\n",
       "    </tr>\n",
       "    <tr>\n",
       "      <th>2</th>\n",
       "      <td>2</td>\n",
       "      <td>data\\toronto\\fixdens\\images\\1.jpg</td>\n",
       "      <td>data\\toronto\\fixdens\\output\\d1.jpg</td>\n",
       "      <td>681</td>\n",
       "      <td>511</td>\n",
       "      <td>360</td>\n",
       "      <td>374</td>\n",
       "      <td>1</td>\n",
       "      <td>salient</td>\n",
       "    </tr>\n",
       "    <tr>\n",
       "      <th>3</th>\n",
       "      <td>3</td>\n",
       "      <td>data\\toronto\\fixdens\\images\\1.jpg</td>\n",
       "      <td>data\\toronto\\fixdens\\output\\d1.jpg</td>\n",
       "      <td>681</td>\n",
       "      <td>511</td>\n",
       "      <td>351</td>\n",
       "      <td>376</td>\n",
       "      <td>1</td>\n",
       "      <td>salient</td>\n",
       "    </tr>\n",
       "    <tr>\n",
       "      <th>4</th>\n",
       "      <td>4</td>\n",
       "      <td>data\\toronto\\fixdens\\images\\1.jpg</td>\n",
       "      <td>data\\toronto\\fixdens\\output\\d1.jpg</td>\n",
       "      <td>681</td>\n",
       "      <td>511</td>\n",
       "      <td>367</td>\n",
       "      <td>382</td>\n",
       "      <td>1</td>\n",
       "      <td>salient</td>\n",
       "    </tr>\n",
       "  </tbody>\n",
       "</table>\n",
       "</div>"
      ],
      "text/plain": [
       "   Unnamed: 0                    image_file_path  \\\n",
       "0           0  data\\toronto\\fixdens\\images\\1.jpg   \n",
       "1           1  data\\toronto\\fixdens\\images\\1.jpg   \n",
       "2           2  data\\toronto\\fixdens\\images\\1.jpg   \n",
       "3           3  data\\toronto\\fixdens\\images\\1.jpg   \n",
       "4           4  data\\toronto\\fixdens\\images\\1.jpg   \n",
       "\n",
       "                   fixation_file_path  image_width  image_height  \\\n",
       "0  data\\toronto\\fixdens\\output\\d1.jpg          681           511   \n",
       "1  data\\toronto\\fixdens\\output\\d1.jpg          681           511   \n",
       "2  data\\toronto\\fixdens\\output\\d1.jpg          681           511   \n",
       "3  data\\toronto\\fixdens\\output\\d1.jpg          681           511   \n",
       "4  data\\toronto\\fixdens\\output\\d1.jpg          681           511   \n",
       "\n",
       "   center_loc_x  center_loc_y  is_salient    label  \n",
       "0           355           387           1  salient  \n",
       "1           355           390           1  salient  \n",
       "2           360           374           1  salient  \n",
       "3           351           376           1  salient  \n",
       "4           367           382           1  salient  "
      ]
     },
     "execution_count": 3,
     "metadata": {},
     "output_type": "execute_result"
    }
   ],
   "source": [
    "df.head()"
   ]
  },
  {
   "cell_type": "code",
   "execution_count": 4,
   "metadata": {},
   "outputs": [],
   "source": [
    "import seaborn as sns"
   ]
  },
  {
   "cell_type": "code",
   "execution_count": 5,
   "metadata": {},
   "outputs": [
    {
     "data": {
      "text/plain": [
       "<AxesSubplot:xlabel='center_loc_x', ylabel='Count'>"
      ]
     },
     "execution_count": 5,
     "metadata": {},
     "output_type": "execute_result"
    },
    {
     "data": {
      "image/png": "[encoded data removed]",
      "text/plain": [
       "<Figure size 432x288 with 1 Axes>"
      ]
     },
     "metadata": {
      "needs_background": "light"
     },
     "output_type": "display_data"
    }
   ],
   "source": [
    "sns.histplot(data=df, x='center_loc_x', hue='is_salient', kde=True)"
   ]
  },
  {
   "cell_type": "code",
   "execution_count": 6,
   "metadata": {},
   "outputs": [
    {
     "data": {
      "text/plain": [
       "<AxesSubplot:xlabel='center_loc_y', ylabel='Count'>"
      ]
     },
     "execution_count": 6,
     "metadata": {},
     "output_type": "execute_result"
    },
    {
     "data": {
      "image/png": "[encoded data removed]",
      "text/plain": [
       "<Figure size 432x288 with 1 Axes>"
      ]
     },
     "metadata": {
      "needs_background": "light"
     },
     "output_type": "display_data"
    }
   ],
   "source": [
    "sns.histplot(data=df, x='center_loc_y', hue='is_salient', kde=True)"
   ]
  },
  {
   "cell_type": "code",
   "execution_count": 7,
   "metadata": {},
   "outputs": [],
   "source": [
    "train = df.sample(frac=0.7, random_state=200)  #random state is a seed value\n",
    "test = df.drop(train.index)\n"
   ]
  },
  {
   "cell_type": "code",
   "execution_count": 8,
   "metadata": {},
   "outputs": [],
   "source": [
    "batch_size = 8\n",
    "target_size = (400, 400)\n"
   ]
  },
  {
   "cell_type": "code",
   "execution_count": 9,
   "metadata": {},
   "outputs": [],
   "source": [
    "traingen = CustomDataGen(train,\n",
    "                         X_col={\n",
    "                             'image_file_path': 'image_file_path',\n",
    "                             'center_loc_x': 'center_loc_x',\n",
    "                             'center_loc_y': 'center_loc_y',\n",
    "                         },\n",
    "                         y_col={'is_salient': 'is_salient'},\n",
    "                         batch_size=batch_size,\n",
    "                         input_size=target_size)\n",
    "valgen = CustomDataGen(test,\n",
    "                       X_col={\n",
    "                           'image_file_path': 'image_file_path',\n",
    "                           'center_loc_x': 'center_loc_x',\n",
    "                           'center_loc_y': 'center_loc_y',\n",
    "                       },\n",
    "                       y_col={'is_salient': 'is_salient'},\n",
    "                       batch_size=batch_size,\n",
    "                       input_size=target_size)\n"
   ]
  },
  {
   "cell_type": "code",
   "execution_count": 10,
   "metadata": {},
   "outputs": [],
   "source": [
    "x, y = traingen[0];"
   ]
  },
  {
   "cell_type": "code",
   "execution_count": 11,
   "metadata": {},
   "outputs": [],
   "source": [
    "from tensorflow.keras.layers import Input, Conv2D, MaxPool2D, Dense, Flatten, Add\n",
    "from tensorflow.keras.models import Model\n",
    "import tensorflow as tf"
   ]
  },
  {
   "cell_type": "code",
   "execution_count": 12,
   "metadata": {},
   "outputs": [],
   "source": [
    "def initialize_base_network(stream_name, patch_size=(42, 42, 3)):\n",
    "    input = Input(shape=(patch_size), name='patch_input')\n",
    "    x = Conv2D(96, 7, activation='relu', name='conv_1')(input)\n",
    "    x = MaxPool2D((2, 2))(x)\n",
    "    x = Conv2D(160, 3, activation='relu', name='conv_2')(x)\n",
    "    x = MaxPool2D((2, 2))(x)\n",
    "    x = Conv2D(288, 3, activation='relu', name='conv_3')(x)\n",
    "    x = MaxPool2D((2, 2))(x)\n",
    "    x = Flatten()(x)\n",
    "    x = Dense(512, activation='relu', name='dense_stream')(x)\n",
    "    return Model(inputs=input, outputs=x, name=stream_name)"
   ]
  },
  {
   "cell_type": "code",
   "execution_count": 13,
   "metadata": {},
   "outputs": [],
   "source": [
    "input_image_1 = Input(shape=(\n",
    "    42,\n",
    "    42,\n",
    "    3,\n",
    "), name='input_img_1')\n",
    "stream_s1 = initialize_base_network(stream_name='stream_1')\n",
    "vec_output_a = stream_s1(input_image_1)\n",
    "\n",
    "input_image_2 = Input(shape=(\n",
    "    42,\n",
    "    42,\n",
    "    3,\n",
    "), name='input_img_2')\n",
    "stream_s2 = initialize_base_network(stream_name='stream_2')\n",
    "vec_output_b = stream_s2(input_image_2)\n",
    "\n",
    "input_image_3 = Input(shape=(\n",
    "    42,\n",
    "    42,\n",
    "    3,\n",
    "), name='input_img_3')\n",
    "stream_s3 = initialize_base_network(stream_name='stream_3')\n",
    "vec_output_c = stream_s3(input_image_3)"
   ]
  },
  {
   "cell_type": "code",
   "execution_count": 14,
   "metadata": {},
   "outputs": [],
   "source": [
    "added = Add(name='add_streams')([vec_output_a, vec_output_b, vec_output_c])\n",
    "x = Dense(512, activation='relu', name='dense_all')(added)\n",
    "output = Dense(1, activation='sigmoid', name='output')(x)"
   ]
  },
  {
   "cell_type": "code",
   "execution_count": 15,
   "metadata": {},
   "outputs": [],
   "source": [
    "model = Model([input_image_1, input_image_2, input_image_3],\n",
    "              output,\n",
    "              name='mr-cnn')\n"
   ]
  },
  {
   "cell_type": "code",
   "execution_count": 16,
   "metadata": {},
   "outputs": [
    {
     "name": "stdout",
     "output_type": "stream",
     "text": [
      "Model: \"mr-cnn\"\n",
      "__________________________________________________________________________________________________\n",
      " Layer (type)                   Output Shape         Param #     Connected to                     \n",
      "==================================================================================================\n",
      " input_img_1 (InputLayer)       [(None, 42, 42, 3)]  0           []                               \n",
      "                                                                                                  \n",
      " input_img_2 (InputLayer)       [(None, 42, 42, 3)]  0           []                               \n",
      "                                                                                                  \n",
      " input_img_3 (InputLayer)       [(None, 42, 42, 3)]  0           []                               \n",
      "                                                                                                  \n",
      " stream_1 (Functional)          (None, 512)          1895232     ['input_img_1[0][0]']            \n",
      "                                                                                                  \n",
      " stream_2 (Functional)          (None, 512)          1895232     ['input_img_2[0][0]']            \n",
      "                                                                                                  \n",
      " stream_3 (Functional)          (None, 512)          1895232     ['input_img_3[0][0]']            \n",
      "                                                                                                  \n",
      " add_streams (Add)              (None, 512)          0           ['stream_1[0][0]',               \n",
      "                                                                  'stream_2[0][0]',               \n",
      "                                                                  'stream_3[0][0]']               \n",
      "                                                                                                  \n",
      " dense_all (Dense)              (None, 512)          262656      ['add_streams[0][0]']            \n",
      "                                                                                                  \n",
      " output (Dense)                 (None, 1)            513         ['dense_all[0][0]']              \n",
      "                                                                                                  \n",
      "==================================================================================================\n",
      "Total params: 5,948,865\n",
      "Trainable params: 5,948,865\n",
      "Non-trainable params: 0\n",
      "__________________________________________________________________________________________________\n"
     ]
    }
   ],
   "source": [
    "model.summary()"
   ]
  },
  {
   "cell_type": "code",
   "execution_count": 17,
   "metadata": {},
   "outputs": [
    {
     "data": {
      "image/png": "[encoded data removed]",
      "text/plain": [
       "<IPython.core.display.Image object>"
      ]
     },
     "execution_count": 17,
     "metadata": {},
     "output_type": "execute_result"
    }
   ],
   "source": [
    "tf.keras.utils.plot_model(model)"
   ]
  },
  {
   "cell_type": "code",
   "execution_count": 18,
   "metadata": {},
   "outputs": [],
   "source": [
    "adam = tf.keras.optimizers.Adam(learning_rate=0.001,\n",
    "                                beta_1=0.9,\n",
    "                                beta_2=0.999,\n",
    "                                epsilon=1e-07,\n",
    "                                amsgrad=False,\n",
    "                                name='Adam')\n",
    "sgd = tf.keras.optimizers.SGD(learning_rate=0.1, momentum=0.9)"
   ]
  },
  {
   "cell_type": "code",
   "execution_count": 19,
   "metadata": {},
   "outputs": [],
   "source": [
    "bce = tf.keras.losses.BinaryCrossentropy(from_logits=False)\n",
    "cce = tf.keras.losses.CategoricalCrossentropy()"
   ]
  },
  {
   "cell_type": "code",
   "execution_count": 20,
   "metadata": {},
   "outputs": [],
   "source": [
    "model.compile(optimizer=adam, loss=bce, metrics=['accuracy'])\n"
   ]
  },
  {
   "cell_type": "code",
   "execution_count": 21,
   "metadata": {},
   "outputs": [
    {
     "name": "stdout",
     "output_type": "stream",
     "text": [
      "Epoch 1/5\n",
      "315/315 [==============================] - 94s 287ms/step - loss: 0.5338 - accuracy: 0.6532 - val_loss: 0.5282 - val_accuracy: 0.6074\n",
      "Epoch 2/5\n",
      "315/315 [==============================] - 92s 292ms/step - loss: 0.5186 - accuracy: 0.6631 - val_loss: 0.5203 - val_accuracy: 0.6815\n",
      "Epoch 3/5\n",
      "315/315 [==============================] - 96s 305ms/step - loss: 0.5119 - accuracy: 0.6663 - val_loss: 0.5325 - val_accuracy: 0.6870\n",
      "Epoch 4/5\n",
      "315/315 [==============================] - 93s 294ms/step - loss: 0.5074 - accuracy: 0.6690 - val_loss: 0.5158 - val_accuracy: 0.7009\n",
      "Epoch 5/5\n",
      "315/315 [==============================] - 93s 294ms/step - loss: 0.5119 - accuracy: 0.6782 - val_loss: 0.5264 - val_accuracy: 0.6926\n"
     ]
    },
    {
     "data": {
      "text/plain": [
       "<keras.callbacks.History at 0x2062c6a5dc8>"
      ]
     },
     "execution_count": 21,
     "metadata": {},
     "output_type": "execute_result"
    }
   ],
   "source": [
    "model.fit(traingen, validation_data=valgen, epochs=5)"
   ]
  },
  {
   "cell_type": "code",
   "execution_count": 22,
   "metadata": {},
   "outputs": [
    {
     "data": {
      "text/plain": [
       "<tf.Tensor: shape=(8, 1), dtype=float32, numpy=\n",
       "array([[0.2896956 ],\n",
       "       [0.30537057],\n",
       "       [0.17202792],\n",
       "       [0.30069697],\n",
       "       [0.5877181 ],\n",
       "       [0.03557533],\n",
       "       [0.43200397],\n",
       "       [0.5473932 ]], dtype=float32)>"
      ]
     },
     "execution_count": 22,
     "metadata": {},
     "output_type": "execute_result"
    }
   ],
   "source": [
    "x, y = traingen[14]\n",
    "model.predict_step((x, y))\n"
   ]
  },
  {
   "cell_type": "code",
   "execution_count": null,
   "metadata": {},
   "outputs": [],
   "source": []
  }
 ],
 "metadata": {
  "interpreter": {
   "hash": "1cfb9b8fc2aa05cd2f03010444f4bf2bf517d2be05582e3f9faf36ad25271df3"
  },
  "kernelspec": {
   "display_name": "Python 3.10.4 ('tflow')",
   "language": "python",
   "name": "python3"
  },
  "language_info": {
   "codemirror_mode": {
    "name": "ipython",
    "version": 3
   },
   "file_extension": ".py",
   "mimetype": "text/x-python",
   "name": "python",
   "nbconvert_exporter": "python",
   "pygments_lexer": "ipython3",
   "version": "3.7.9"
  },
  "orig_nbformat": 4
 },
 "nbformat": 4,
 "nbformat_minor": 2
}
