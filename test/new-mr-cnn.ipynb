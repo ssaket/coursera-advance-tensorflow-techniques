{
 "cells": [
  {
   "cell_type": "code",
   "execution_count": 1,
   "metadata": {},
   "outputs": [],
   "source": [
    "import pandas as pd\n",
    "import numpy as np\n",
    "from custom_data import CustomDataGen"
   ]
  },
  {
   "cell_type": "code",
   "execution_count": 2,
   "metadata": {},
   "outputs": [],
   "source": [
    "df = pd.read_csv(\"torronto_df.csv\")\n",
    "df.output = df.output.astype(np.int32)\n",
    "df.center_index = df.center_index.apply(eval).apply(np.array)"
   ]
  },
  {
   "cell_type": "code",
   "execution_count": 3,
   "metadata": {},
   "outputs": [
    {
     "data": {
      "text/html": [
       "<div>\n",
       "<style scoped>\n",
       "    .dataframe tbody tr th:only-of-type {\n",
       "        vertical-align: middle;\n",
       "    }\n",
       "\n",
       "    .dataframe tbody tr th {\n",
       "        vertical-align: top;\n",
       "    }\n",
       "\n",
       "    .dataframe thead th {\n",
       "        text-align: right;\n",
       "    }\n",
       "</style>\n",
       "<table border=\"1\" class=\"dataframe\">\n",
       "  <thead>\n",
       "    <tr style=\"text-align: right;\">\n",
       "      <th></th>\n",
       "      <th>Unnamed: 0</th>\n",
       "      <th>image_file</th>\n",
       "      <th>fixation_file</th>\n",
       "      <th>image_size</th>\n",
       "      <th>center_index</th>\n",
       "      <th>output</th>\n",
       "    </tr>\n",
       "  </thead>\n",
       "  <tbody>\n",
       "    <tr>\n",
       "      <th>0</th>\n",
       "      <td>0</td>\n",
       "      <td>data/toronto/fixdens/images/1.jpg</td>\n",
       "      <td>data/toronto/fixdens/output/d1.jpg</td>\n",
       "      <td>(681, 511)</td>\n",
       "      <td>[376, 367]</td>\n",
       "      <td>1</td>\n",
       "    </tr>\n",
       "    <tr>\n",
       "      <th>1</th>\n",
       "      <td>1</td>\n",
       "      <td>data/toronto/fixdens/images/1.jpg</td>\n",
       "      <td>data/toronto/fixdens/output/d1.jpg</td>\n",
       "      <td>(681, 511)</td>\n",
       "      <td>[380, 351]</td>\n",
       "      <td>1</td>\n",
       "    </tr>\n",
       "    <tr>\n",
       "      <th>2</th>\n",
       "      <td>2</td>\n",
       "      <td>data/toronto/fixdens/images/1.jpg</td>\n",
       "      <td>data/toronto/fixdens/output/d1.jpg</td>\n",
       "      <td>(681, 511)</td>\n",
       "      <td>[375, 349]</td>\n",
       "      <td>1</td>\n",
       "    </tr>\n",
       "    <tr>\n",
       "      <th>3</th>\n",
       "      <td>3</td>\n",
       "      <td>data/toronto/fixdens/images/1.jpg</td>\n",
       "      <td>data/toronto/fixdens/output/d1.jpg</td>\n",
       "      <td>(681, 511)</td>\n",
       "      <td>[383, 351]</td>\n",
       "      <td>1</td>\n",
       "    </tr>\n",
       "    <tr>\n",
       "      <th>4</th>\n",
       "      <td>4</td>\n",
       "      <td>data/toronto/fixdens/images/1.jpg</td>\n",
       "      <td>data/toronto/fixdens/output/d1.jpg</td>\n",
       "      <td>(681, 511)</td>\n",
       "      <td>[375, 351]</td>\n",
       "      <td>1</td>\n",
       "    </tr>\n",
       "  </tbody>\n",
       "</table>\n",
       "</div>"
      ],
      "text/plain": [
       "   Unnamed: 0                         image_file  \\\n",
       "0           0  data/toronto/fixdens/images/1.jpg   \n",
       "1           1  data/toronto/fixdens/images/1.jpg   \n",
       "2           2  data/toronto/fixdens/images/1.jpg   \n",
       "3           3  data/toronto/fixdens/images/1.jpg   \n",
       "4           4  data/toronto/fixdens/images/1.jpg   \n",
       "\n",
       "                        fixation_file  image_size center_index  output  \n",
       "0  data/toronto/fixdens/output/d1.jpg  (681, 511)   [376, 367]       1  \n",
       "1  data/toronto/fixdens/output/d1.jpg  (681, 511)   [380, 351]       1  \n",
       "2  data/toronto/fixdens/output/d1.jpg  (681, 511)   [375, 349]       1  \n",
       "3  data/toronto/fixdens/output/d1.jpg  (681, 511)   [383, 351]       1  \n",
       "4  data/toronto/fixdens/output/d1.jpg  (681, 511)   [375, 351]       1  "
      ]
     },
     "execution_count": 3,
     "metadata": {},
     "output_type": "execute_result"
    }
   ],
   "source": [
    "df.head()"
   ]
  },
  {
   "cell_type": "code",
   "execution_count": 4,
   "metadata": {},
   "outputs": [],
   "source": [
    "train= df.sample(frac=0.7,random_state=200) #random state is a seed value\n",
    "test= df.drop(train.index)"
   ]
  },
  {
   "cell_type": "code",
   "execution_count": 5,
   "metadata": {},
   "outputs": [],
   "source": [
    "batch_size = 8\n",
    "target_size = (400,400)"
   ]
  },
  {
   "cell_type": "code",
   "execution_count": 6,
   "metadata": {},
   "outputs": [],
   "source": [
    "traingen = CustomDataGen(train,\n",
    "                             X_col={\n",
    "                                 'path': 'image_file',\n",
    "                                 'center': 'center_index'\n",
    "                             },\n",
    "                             y_col={\n",
    "                                 'output': 'output'\n",
    "                             },\n",
    "                             batch_size=batch_size,\n",
    "                             input_size=target_size)\n",
    "valgen = CustomDataGen(test,\n",
    "                             X_col={\n",
    "                                 'path': 'image_file',\n",
    "                                 'center': 'center_index'\n",
    "                             },\n",
    "                             y_col={\n",
    "                                 'output': 'output'\n",
    "                             },\n",
    "                             batch_size=batch_size,\n",
    "                             input_size=target_size)"
   ]
  },
  {
   "cell_type": "code",
   "execution_count": 7,
   "metadata": {},
   "outputs": [],
   "source": [
    "# x, y = traingen[0];"
   ]
  },
  {
   "cell_type": "code",
   "execution_count": 8,
   "metadata": {},
   "outputs": [],
   "source": [
    "from tensorflow.keras.layers import Input, Conv2D, MaxPool2D, Dense, Flatten, Add\n",
    "from tensorflow.keras.models import Model\n",
    "import tensorflow as tf"
   ]
  },
  {
   "cell_type": "code",
   "execution_count": 9,
   "metadata": {},
   "outputs": [],
   "source": [
    "def initialize_base_network(stream_name, patch_size=(42,42,3)):\n",
    "    input = Input(shape=(patch_size), name='patch_input')\n",
    "    x = Conv2D(96, 7, activation='relu', name='conv_1')(input)\n",
    "    x = MaxPool2D((2, 2))(x)\n",
    "    x = Conv2D(160, 3, activation='relu', name='conv_2')(x)\n",
    "    x = MaxPool2D((2, 2))(x)\n",
    "    x = Conv2D(288, 3, activation='relu', name='conv_3')(x)\n",
    "    x = MaxPool2D((2, 2))(x)\n",
    "    x = Flatten()(x)\n",
    "    x = Dense(512, activation='relu', name='dense_stream')(x)\n",
    "    return Model(inputs=input, outputs=x, name=stream_name)"
   ]
  },
  {
   "cell_type": "code",
   "execution_count": 10,
   "metadata": {},
   "outputs": [],
   "source": [
    "input_image_1 = Input(shape=(\n",
    "    42,\n",
    "    42,\n",
    "    3,\n",
    "), name='input_img_1')\n",
    "stream_s1 = initialize_base_network(stream_name='stream_1')\n",
    "vec_output_a = stream_s1(input_image_1)\n",
    "\n",
    "input_image_2 = Input(shape=(\n",
    "    42,\n",
    "    42,\n",
    "    3,\n",
    "), name='input_img_2')\n",
    "stream_s2 = initialize_base_network(stream_name='stream_2')\n",
    "vec_output_b = stream_s2(input_image_2)\n",
    "\n",
    "input_image_3 = Input(shape=(\n",
    "    42,\n",
    "    42,\n",
    "    3,\n",
    "), name='input_img_3')\n",
    "stream_s3 = initialize_base_network(stream_name='stream_3')\n",
    "vec_output_c = stream_s3(input_image_3)"
   ]
  },
  {
   "cell_type": "code",
   "execution_count": 11,
   "metadata": {},
   "outputs": [],
   "source": [
    "added = Add(name='add_streams')([vec_output_a, vec_output_b, vec_output_c])\n",
    "x = Dense(512, activation='relu', name='dense_all')(added)\n",
    "output = Dense(1, activation='sigmoid', name='output')(x)"
   ]
  },
  {
   "cell_type": "code",
   "execution_count": 12,
   "metadata": {},
   "outputs": [],
   "source": [
    "model = Model([input_image_1, input_image_2, input_image_3], output, name='mr-cnn')"
   ]
  },
  {
   "cell_type": "code",
   "execution_count": 13,
   "metadata": {},
   "outputs": [
    {
     "name": "stdout",
     "output_type": "stream",
     "text": [
      "Model: \"mr-cnn\"\n",
      "__________________________________________________________________________________________________\n",
      " Layer (type)                   Output Shape         Param #     Connected to                     \n",
      "==================================================================================================\n",
      " input_img_1 (InputLayer)       [(None, 42, 42, 3)]  0           []                               \n",
      "                                                                                                  \n",
      " input_img_2 (InputLayer)       [(None, 42, 42, 3)]  0           []                               \n",
      "                                                                                                  \n",
      " input_img_3 (InputLayer)       [(None, 42, 42, 3)]  0           []                               \n",
      "                                                                                                  \n",
      " stream_1 (Functional)          (None, 512)          1895232     ['input_img_1[0][0]']            \n",
      "                                                                                                  \n",
      " stream_2 (Functional)          (None, 512)          1895232     ['input_img_2[0][0]']            \n",
      "                                                                                                  \n",
      " stream_3 (Functional)          (None, 512)          1895232     ['input_img_3[0][0]']            \n",
      "                                                                                                  \n",
      " add_streams (Add)              (None, 512)          0           ['stream_1[0][0]',               \n",
      "                                                                  'stream_2[0][0]',               \n",
      "                                                                  'stream_3[0][0]']               \n",
      "                                                                                                  \n",
      " dense_all (Dense)              (None, 512)          262656      ['add_streams[0][0]']            \n",
      "                                                                                                  \n",
      " output (Dense)                 (None, 1)            513         ['dense_all[0][0]']              \n",
      "                                                                                                  \n",
      "==================================================================================================\n",
      "Total params: 5,948,865\n",
      "Trainable params: 5,948,865\n",
      "Non-trainable params: 0\n",
      "__________________________________________________________________________________________________\n"
     ]
    }
   ],
   "source": [
    "model.summary()"
   ]
  },
  {
   "cell_type": "code",
   "execution_count": 14,
   "metadata": {},
   "outputs": [
    {
     "data": {
      "image/png": "[encoded data removed]",
      "text/plain": [
       "<IPython.core.display.Image object>"
      ]
     },
     "execution_count": 14,
     "metadata": {},
     "output_type": "execute_result"
    }
   ],
   "source": [
    "tf.keras.utils.plot_model(model)"
   ]
  },
  {
   "cell_type": "code",
   "execution_count": 15,
   "metadata": {},
   "outputs": [],
   "source": [
    "adam = tf.keras.optimizers.Adam(\n",
    "    learning_rate=0.001,\n",
    "    beta_1=0.9,\n",
    "    beta_2=0.999,\n",
    "    epsilon=1e-07,\n",
    "    amsgrad=False,\n",
    "    name='Adam'\n",
    ")\n",
    "sgd = tf.keras.optimizers.SGD(learning_rate=0.1, momentum=0.9)"
   ]
  },
  {
   "cell_type": "code",
   "execution_count": 16,
   "metadata": {},
   "outputs": [],
   "source": [
    "bce = tf.keras.losses.BinaryCrossentropy(from_logits=False)\n",
    "cce = tf.keras.losses.CategoricalCrossentropy()"
   ]
  },
  {
   "cell_type": "code",
   "execution_count": 17,
   "metadata": {},
   "outputs": [],
   "source": [
    "model.compile(optimizer=adam,\n",
    "                   loss=bce,\n",
    "                   metrics=['accuracy'])"
   ]
  },
  {
   "cell_type": "code",
   "execution_count": 18,
   "metadata": {},
   "outputs": [
    {
     "name": "stdout",
     "output_type": "stream",
     "text": [
      "Epoch 1/5\n",
      "(484, 484, 3) 589 157 [ 73 505]\n"
     ]
    },
    {
     "ename": "InvalidArgumentError",
     "evalue": "Graph execution error:\n\n2 root error(s) found.\n  (0) INVALID_ARGUMENT:  ValueError: height must be >= target + offset.\nTraceback (most recent call last):\n\n  File \"C:\\Users\\sktsa\\tflow\\lib\\site-packages\\tensorflow\\python\\ops\\script_ops.py\", line 271, in __call__\n    ret = func(*args)\n\n  File \"C:\\Users\\sktsa\\tflow\\lib\\site-packages\\tensorflow\\python\\autograph\\impl\\api.py\", line 642, in wrapper\n    return func(*args, **kwargs)\n\n  File \"C:\\Users\\sktsa\\tflow\\lib\\site-packages\\tensorflow\\python\\data\\ops\\dataset_ops.py\", line 1004, in generator_py_func\n    values = next(generator_state.get_iterator(iterator_id))\n\n  File \"C:\\Users\\sktsa\\tflow\\lib\\site-packages\\keras\\engine\\data_adapter.py\", line 830, in wrapped_generator\n    for data in generator_fn():\n\n  File \"C:\\Users\\sktsa\\tflow\\lib\\site-packages\\keras\\engine\\data_adapter.py\", line 956, in generator_fn\n    yield x[i]\n\n  File \"c:\\Users\\sktsa\\Projects\\coursera-advance-tensorflow-techniques\\test\\custom_data.py\", line 75, in __getitem__\n    X, y = self.__get_data(batches)\n\n  File \"c:\\Users\\sktsa\\Projects\\coursera-advance-tensorflow-techniques\\test\\custom_data.py\", line 62, in __get_data\n    X1_batch = np.asarray([self.__get_input_img(x, y, (400,400)) for x, y in zip(path_batch, center_loc_batch)])\n\n  File \"c:\\Users\\sktsa\\Projects\\coursera-advance-tensorflow-techniques\\test\\custom_data.py\", line 62, in <listcomp>\n    X1_batch = np.asarray([self.__get_input_img(x, y, (400,400)) for x, y in zip(path_batch, center_loc_batch)])\n\n  File \"c:\\Users\\sktsa\\Projects\\coursera-advance-tensorflow-techniques\\test\\custom_data.py\", line 45, in __get_input_img\n    image_arr = tf.image.crop_to_bounding_box(image_arr, ymin, xmin, h, w).numpy()\n\n  File \"C:\\Users\\sktsa\\tflow\\lib\\site-packages\\tensorflow\\python\\util\\traceback_utils.py\", line 153, in error_handler\n    raise e.with_traceback(filtered_tb) from None\n\n  File \"C:\\Users\\sktsa\\tflow\\lib\\site-packages\\tensorflow\\python\\ops\\image_ops_impl.py\", line 81, in _assert\n    raise ex_type(msg)\n\nValueError: height must be >= target + offset.\n\n\n\t [[{{node PyFunc}}]]\n\t [[IteratorGetNext]]\n\t [[IteratorGetNext/_6]]\n  (1) INVALID_ARGUMENT:  ValueError: height must be >= target + offset.\nTraceback (most recent call last):\n\n  File \"C:\\Users\\sktsa\\tflow\\lib\\site-packages\\tensorflow\\python\\ops\\script_ops.py\", line 271, in __call__\n    ret = func(*args)\n\n  File \"C:\\Users\\sktsa\\tflow\\lib\\site-packages\\tensorflow\\python\\autograph\\impl\\api.py\", line 642, in wrapper\n    return func(*args, **kwargs)\n\n  File \"C:\\Users\\sktsa\\tflow\\lib\\site-packages\\tensorflow\\python\\data\\ops\\dataset_ops.py\", line 1004, in generator_py_func\n    values = next(generator_state.get_iterator(iterator_id))\n\n  File \"C:\\Users\\sktsa\\tflow\\lib\\site-packages\\keras\\engine\\data_adapter.py\", line 830, in wrapped_generator\n    for data in generator_fn():\n\n  File \"C:\\Users\\sktsa\\tflow\\lib\\site-packages\\keras\\engine\\data_adapter.py\", line 956, in generator_fn\n    yield x[i]\n\n  File \"c:\\Users\\sktsa\\Projects\\coursera-advance-tensorflow-techniques\\test\\custom_data.py\", line 75, in __getitem__\n    X, y = self.__get_data(batches)\n\n  File \"c:\\Users\\sktsa\\Projects\\coursera-advance-tensorflow-techniques\\test\\custom_data.py\", line 62, in __get_data\n    X1_batch = np.asarray([self.__get_input_img(x, y, (400,400)) for x, y in zip(path_batch, center_loc_batch)])\n\n  File \"c:\\Users\\sktsa\\Projects\\coursera-advance-tensorflow-techniques\\test\\custom_data.py\", line 62, in <listcomp>\n    X1_batch = np.asarray([self.__get_input_img(x, y, (400,400)) for x, y in zip(path_batch, center_loc_batch)])\n\n  File \"c:\\Users\\sktsa\\Projects\\coursera-advance-tensorflow-techniques\\test\\custom_data.py\", line 45, in __get_input_img\n    image_arr = tf.image.crop_to_bounding_box(image_arr, ymin, xmin, h, w).numpy()\n\n  File \"C:\\Users\\sktsa\\tflow\\lib\\site-packages\\tensorflow\\python\\util\\traceback_utils.py\", line 153, in error_handler\n    raise e.with_traceback(filtered_tb) from None\n\n  File \"C:\\Users\\sktsa\\tflow\\lib\\site-packages\\tensorflow\\python\\ops\\image_ops_impl.py\", line 81, in _assert\n    raise ex_type(msg)\n\nValueError: height must be >= target + offset.\n\n\n\t [[{{node PyFunc}}]]\n\t [[IteratorGetNext]]\n0 successful operations.\n0 derived errors ignored. [Op:__inference_train_function_2676]",
     "output_type": "error",
     "traceback": [
      "\u001b[1;31m---------------------------------------------------------------------------\u001b[0m",
      "\u001b[1;31mInvalidArgumentError\u001b[0m                      Traceback (most recent call last)",
      "\u001b[1;32m~\\AppData\\Local\\Temp\\ipykernel_13656\\3577735682.py\u001b[0m in \u001b[0;36m<module>\u001b[1;34m\u001b[0m\n\u001b[1;32m----> 1\u001b[1;33m \u001b[0mmodel\u001b[0m\u001b[1;33m.\u001b[0m\u001b[0mfit\u001b[0m\u001b[1;33m(\u001b[0m\u001b[0mtraingen\u001b[0m\u001b[1;33m,\u001b[0m \u001b[0mvalidation_data\u001b[0m\u001b[1;33m=\u001b[0m\u001b[0mvalgen\u001b[0m\u001b[1;33m,\u001b[0m \u001b[0mepochs\u001b[0m\u001b[1;33m=\u001b[0m\u001b[1;36m5\u001b[0m\u001b[1;33m)\u001b[0m\u001b[1;33m\u001b[0m\u001b[1;33m\u001b[0m\u001b[0m\n\u001b[0m",
      "\u001b[1;32m~\\tflow\\lib\\site-packages\\keras\\utils\\traceback_utils.py\u001b[0m in \u001b[0;36merror_handler\u001b[1;34m(*args, **kwargs)\u001b[0m\n\u001b[0;32m     65\u001b[0m     \u001b[1;32mexcept\u001b[0m \u001b[0mException\u001b[0m \u001b[1;32mas\u001b[0m \u001b[0me\u001b[0m\u001b[1;33m:\u001b[0m  \u001b[1;31m# pylint: disable=broad-except\u001b[0m\u001b[1;33m\u001b[0m\u001b[1;33m\u001b[0m\u001b[0m\n\u001b[0;32m     66\u001b[0m       \u001b[0mfiltered_tb\u001b[0m \u001b[1;33m=\u001b[0m \u001b[0m_process_traceback_frames\u001b[0m\u001b[1;33m(\u001b[0m\u001b[0me\u001b[0m\u001b[1;33m.\u001b[0m\u001b[0m__traceback__\u001b[0m\u001b[1;33m)\u001b[0m\u001b[1;33m\u001b[0m\u001b[1;33m\u001b[0m\u001b[0m\n\u001b[1;32m---> 67\u001b[1;33m       \u001b[1;32mraise\u001b[0m \u001b[0me\u001b[0m\u001b[1;33m.\u001b[0m\u001b[0mwith_traceback\u001b[0m\u001b[1;33m(\u001b[0m\u001b[0mfiltered_tb\u001b[0m\u001b[1;33m)\u001b[0m \u001b[1;32mfrom\u001b[0m \u001b[1;32mNone\u001b[0m\u001b[1;33m\u001b[0m\u001b[1;33m\u001b[0m\u001b[0m\n\u001b[0m\u001b[0;32m     68\u001b[0m     \u001b[1;32mfinally\u001b[0m\u001b[1;33m:\u001b[0m\u001b[1;33m\u001b[0m\u001b[1;33m\u001b[0m\u001b[0m\n\u001b[0;32m     69\u001b[0m       \u001b[1;32mdel\u001b[0m \u001b[0mfiltered_tb\u001b[0m\u001b[1;33m\u001b[0m\u001b[1;33m\u001b[0m\u001b[0m\n",
      "\u001b[1;32m~\\tflow\\lib\\site-packages\\tensorflow\\python\\eager\\execute.py\u001b[0m in \u001b[0;36mquick_execute\u001b[1;34m(op_name, num_outputs, inputs, attrs, ctx, name)\u001b[0m\n\u001b[0;32m     53\u001b[0m     \u001b[0mctx\u001b[0m\u001b[1;33m.\u001b[0m\u001b[0mensure_initialized\u001b[0m\u001b[1;33m(\u001b[0m\u001b[1;33m)\u001b[0m\u001b[1;33m\u001b[0m\u001b[1;33m\u001b[0m\u001b[0m\n\u001b[0;32m     54\u001b[0m     tensors = pywrap_tfe.TFE_Py_Execute(ctx._handle, device_name, op_name,\n\u001b[1;32m---> 55\u001b[1;33m                                         inputs, attrs, num_outputs)\n\u001b[0m\u001b[0;32m     56\u001b[0m   \u001b[1;32mexcept\u001b[0m \u001b[0mcore\u001b[0m\u001b[1;33m.\u001b[0m\u001b[0m_NotOkStatusException\u001b[0m \u001b[1;32mas\u001b[0m \u001b[0me\u001b[0m\u001b[1;33m:\u001b[0m\u001b[1;33m\u001b[0m\u001b[1;33m\u001b[0m\u001b[0m\n\u001b[0;32m     57\u001b[0m     \u001b[1;32mif\u001b[0m \u001b[0mname\u001b[0m \u001b[1;32mis\u001b[0m \u001b[1;32mnot\u001b[0m \u001b[1;32mNone\u001b[0m\u001b[1;33m:\u001b[0m\u001b[1;33m\u001b[0m\u001b[1;33m\u001b[0m\u001b[0m\n",
      "\u001b[1;31mInvalidArgumentError\u001b[0m: Graph execution error:\n\n2 root error(s) found.\n  (0) INVALID_ARGUMENT:  ValueError: height must be >= target + offset.\nTraceback (most recent call last):\n\n  File \"C:\\Users\\sktsa\\tflow\\lib\\site-packages\\tensorflow\\python\\ops\\script_ops.py\", line 271, in __call__\n    ret = func(*args)\n\n  File \"C:\\Users\\sktsa\\tflow\\lib\\site-packages\\tensorflow\\python\\autograph\\impl\\api.py\", line 642, in wrapper\n    return func(*args, **kwargs)\n\n  File \"C:\\Users\\sktsa\\tflow\\lib\\site-packages\\tensorflow\\python\\data\\ops\\dataset_ops.py\", line 1004, in generator_py_func\n    values = next(generator_state.get_iterator(iterator_id))\n\n  File \"C:\\Users\\sktsa\\tflow\\lib\\site-packages\\keras\\engine\\data_adapter.py\", line 830, in wrapped_generator\n    for data in generator_fn():\n\n  File \"C:\\Users\\sktsa\\tflow\\lib\\site-packages\\keras\\engine\\data_adapter.py\", line 956, in generator_fn\n    yield x[i]\n\n  File \"c:\\Users\\sktsa\\Projects\\coursera-advance-tensorflow-techniques\\test\\custom_data.py\", line 75, in __getitem__\n    X, y = self.__get_data(batches)\n\n  File \"c:\\Users\\sktsa\\Projects\\coursera-advance-tensorflow-techniques\\test\\custom_data.py\", line 62, in __get_data\n    X1_batch = np.asarray([self.__get_input_img(x, y, (400,400)) for x, y in zip(path_batch, center_loc_batch)])\n\n  File \"c:\\Users\\sktsa\\Projects\\coursera-advance-tensorflow-techniques\\test\\custom_data.py\", line 62, in <listcomp>\n    X1_batch = np.asarray([self.__get_input_img(x, y, (400,400)) for x, y in zip(path_batch, center_loc_batch)])\n\n  File \"c:\\Users\\sktsa\\Projects\\coursera-advance-tensorflow-techniques\\test\\custom_data.py\", line 45, in __get_input_img\n    image_arr = tf.image.crop_to_bounding_box(image_arr, ymin, xmin, h, w).numpy()\n\n  File \"C:\\Users\\sktsa\\tflow\\lib\\site-packages\\tensorflow\\python\\util\\traceback_utils.py\", line 153, in error_handler\n    raise e.with_traceback(filtered_tb) from None\n\n  File \"C:\\Users\\sktsa\\tflow\\lib\\site-packages\\tensorflow\\python\\ops\\image_ops_impl.py\", line 81, in _assert\n    raise ex_type(msg)\n\nValueError: height must be >= target + offset.\n\n\n\t [[{{node PyFunc}}]]\n\t [[IteratorGetNext]]\n\t [[IteratorGetNext/_6]]\n  (1) INVALID_ARGUMENT:  ValueError: height must be >= target + offset.\nTraceback (most recent call last):\n\n  File \"C:\\Users\\sktsa\\tflow\\lib\\site-packages\\tensorflow\\python\\ops\\script_ops.py\", line 271, in __call__\n    ret = func(*args)\n\n  File \"C:\\Users\\sktsa\\tflow\\lib\\site-packages\\tensorflow\\python\\autograph\\impl\\api.py\", line 642, in wrapper\n    return func(*args, **kwargs)\n\n  File \"C:\\Users\\sktsa\\tflow\\lib\\site-packages\\tensorflow\\python\\data\\ops\\dataset_ops.py\", line 1004, in generator_py_func\n    values = next(generator_state.get_iterator(iterator_id))\n\n  File \"C:\\Users\\sktsa\\tflow\\lib\\site-packages\\keras\\engine\\data_adapter.py\", line 830, in wrapped_generator\n    for data in generator_fn():\n\n  File \"C:\\Users\\sktsa\\tflow\\lib\\site-packages\\keras\\engine\\data_adapter.py\", line 956, in generator_fn\n    yield x[i]\n\n  File \"c:\\Users\\sktsa\\Projects\\coursera-advance-tensorflow-techniques\\test\\custom_data.py\", line 75, in __getitem__\n    X, y = self.__get_data(batches)\n\n  File \"c:\\Users\\sktsa\\Projects\\coursera-advance-tensorflow-techniques\\test\\custom_data.py\", line 62, in __get_data\n    X1_batch = np.asarray([self.__get_input_img(x, y, (400,400)) for x, y in zip(path_batch, center_loc_batch)])\n\n  File \"c:\\Users\\sktsa\\Projects\\coursera-advance-tensorflow-techniques\\test\\custom_data.py\", line 62, in <listcomp>\n    X1_batch = np.asarray([self.__get_input_img(x, y, (400,400)) for x, y in zip(path_batch, center_loc_batch)])\n\n  File \"c:\\Users\\sktsa\\Projects\\coursera-advance-tensorflow-techniques\\test\\custom_data.py\", line 45, in __get_input_img\n    image_arr = tf.image.crop_to_bounding_box(image_arr, ymin, xmin, h, w).numpy()\n\n  File \"C:\\Users\\sktsa\\tflow\\lib\\site-packages\\tensorflow\\python\\util\\traceback_utils.py\", line 153, in error_handler\n    raise e.with_traceback(filtered_tb) from None\n\n  File \"C:\\Users\\sktsa\\tflow\\lib\\site-packages\\tensorflow\\python\\ops\\image_ops_impl.py\", line 81, in _assert\n    raise ex_type(msg)\n\nValueError: height must be >= target + offset.\n\n\n\t [[{{node PyFunc}}]]\n\t [[IteratorGetNext]]\n0 successful operations.\n0 derived errors ignored. [Op:__inference_train_function_2676]"
     ]
    }
   ],
   "source": [
    "model.fit(traingen, validation_data=valgen, epochs=5)"
   ]
  },
  {
   "cell_type": "code",
   "execution_count": null,
   "metadata": {},
   "outputs": [],
   "source": [
    "x, y = traingen[14]\n",
    "model.predict_step((x,y))"
   ]
  },
  {
   "cell_type": "code",
   "execution_count": null,
   "metadata": {},
   "outputs": [],
   "source": []
  }
 ],
 "metadata": {
  "interpreter": {
   "hash": "1cfb9b8fc2aa05cd2f03010444f4bf2bf517d2be05582e3f9faf36ad25271df3"
  },
  "kernelspec": {
   "display_name": "Python 3.10.4 ('tflow')",
   "language": "python",
   "name": "python3"
  },
  "language_info": {
   "codemirror_mode": {
    "name": "ipython",
    "version": 3
   },
   "file_extension": ".py",
   "mimetype": "text/x-python",
   "name": "python",
   "nbconvert_exporter": "python",
   "pygments_lexer": "ipython3",
   "version": "3.7.9"
  },
  "orig_nbformat": 4
 },
 "nbformat": 4,
 "nbformat_minor": 2
}
