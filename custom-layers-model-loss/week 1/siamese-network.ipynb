{
 "cells": [
  {
   "cell_type": "code",
   "execution_count": 1,
   "metadata": {},
   "outputs": [],
   "source": [
    "import numpy as np\n",
    "import random"
   ]
  },
  {
   "cell_type": "code",
   "execution_count": 2,
   "metadata": {},
   "outputs": [],
   "source": [
    "import tensorflow as tf\n",
    "\n",
    "fashion_mnist = tf.keras.datasets.fashion_mnist"
   ]
  },
  {
   "cell_type": "code",
   "execution_count": 3,
   "metadata": {},
   "outputs": [],
   "source": [
    "def create_pairs(x, digit_indices):\n",
    "    pairs = []\n",
    "    labels = []\n",
    "    n = min([len(digit_indices[d]) for d in range(10)]) - 1\n",
    "\n",
    "    for d in range(10):\n",
    "        for i in range(n):\n",
    "            z1, z2 = digit_indices[d][i], digit_indices[d][i + 1]\n",
    "            pairs += [[x[z1], x[z2]]]\n",
    "            inc = random.randrange(1, 10)\n",
    "            dn = (d + inc) % 10\n",
    "            z1, z2 = digit_indices[d][i], digit_indices[dn][i]\n",
    "            pairs += [[x[z1], x[z2]]]\n",
    "            labels += [1, 0]\n",
    "\n",
    "    return np.array(pairs), np.array(labels)\n",
    "\n",
    "\n",
    "def create_pairs_on_set(images, labels):\n",
    "\n",
    "    digit_indices = [np.where(labels == i)[0] for i in range(10)]\n",
    "    pairs, y = create_pairs(images, digit_indices)\n",
    "    y = y.astype('float32')\n",
    "\n",
    "    return pairs, y\n"
   ]
  },
  {
   "cell_type": "code",
   "execution_count": 4,
   "metadata": {},
   "outputs": [],
   "source": [
    "(train_images, train_labels), (test_images,\n",
    "                               test_labels) = fashion_mnist.load_data()\n",
    "train_images = train_images.astype('float32')\n",
    "test_images = test_images.astype('float32')\n",
    "\n",
    "train_images /= 255.0\n",
    "test_images /= 255.0\n"
   ]
  },
  {
   "cell_type": "code",
   "execution_count": 5,
   "metadata": {},
   "outputs": [],
   "source": [
    "tr_pairs, tr_y = create_pairs_on_set(train_images, train_labels)\n",
    "ts_pairs, ts_y = create_pairs_on_set(test_images, test_labels)"
   ]
  },
  {
   "cell_type": "code",
   "execution_count": 6,
   "metadata": {},
   "outputs": [],
   "source": [
    "import matplotlib.pyplot as plt\n",
    "\n",
    "\n",
    "def plot_image(image):\n",
    "    plt.imshow(image)"
   ]
  },
  {
   "cell_type": "code",
   "execution_count": 7,
   "metadata": {},
   "outputs": [
    {
     "data": {
      "image/png": "[encoded data removed]",
      "text/plain": [
       "<Figure size 432x288 with 1 Axes>"
      ]
     },
     "metadata": {
      "needs_background": "light"
     },
     "output_type": "display_data"
    }
   ],
   "source": [
    "image_no = 2\n",
    "plot_image(tr_pairs[image_no][0])\n",
    "plot_image(tr_pairs[image_no][1])"
   ]
  },
  {
   "cell_type": "code",
   "execution_count": 8,
   "metadata": {},
   "outputs": [],
   "source": [
    "from tensorflow.keras.models import Model\n",
    "from tensorflow.keras.layers import Input, Dense, Flatten, Dropout, Lambda\n",
    "import tensorflow.keras.backend as K\n",
    "from tensorflow.keras.utils import plot_model\n",
    "from tensorflow.keras.optimizers import RMSprop\n",
    "\n",
    "\n",
    "def initialize_base_network():\n",
    "    input = Input(shape=(\n",
    "        28,\n",
    "        28,\n",
    "    ), name='base_input')\n",
    "    x = Flatten()(input)\n",
    "    x = Dense(128, activation='relu')(x)\n",
    "    x = Dropout(0.1)(x)\n",
    "    x = Dense(128, activation='relu')(x)\n",
    "    x = Dropout(0.1)(x)\n",
    "    x = Dense(128, activation='relu')(x)\n",
    "    return Model(inputs=input, outputs=x)\n"
   ]
  },
  {
   "cell_type": "code",
   "execution_count": 9,
   "metadata": {},
   "outputs": [],
   "source": [
    "def euclidean_distance(vects):\n",
    "    x, y = vects\n",
    "    sum_sq = K.sum(K.square(x - y), axis=1, keepdims=True)\n",
    "    return K.sqrt(K.maximum(sum_sq, K.epsilon()))"
   ]
  },
  {
   "cell_type": "code",
   "execution_count": 10,
   "metadata": {},
   "outputs": [],
   "source": [
    "def euclidean_dist_output_shape(shapes):\n",
    "    shape1, shape2 = shapes\n",
    "    return (shape1[0], 1)"
   ]
  },
  {
   "cell_type": "code",
   "execution_count": 11,
   "metadata": {},
   "outputs": [
    {
     "name": "stdout",
     "output_type": "stream",
     "text": [
      "You must install pydot (`pip install pydot`) and install graphviz (see instructions at https://graphviz.gitlab.io/download/) for plot_model/model_to_dot to work.\n"
     ]
    }
   ],
   "source": [
    "base_network = initialize_base_network()\n",
    "plot_model(base_network)"
   ]
  },
  {
   "cell_type": "code",
   "execution_count": 12,
   "metadata": {},
   "outputs": [],
   "source": [
    "input_a = Input(shape=(\n",
    "    28,\n",
    "    28,\n",
    "), name='left_input')\n",
    "vec_output_a = base_network(input_a)\n",
    "\n",
    "input_b = Input(shape=(\n",
    "    28,\n",
    "    28,\n",
    "), name='right_input')\n",
    "vec_output_b = base_network(input_b)"
   ]
  },
  {
   "cell_type": "code",
   "execution_count": 13,
   "metadata": {},
   "outputs": [],
   "source": [
    "output = Lambda(\n",
    "    euclidean_distance,\n",
    "    name='output_layer',\n",
    "    output_shape=euclidean_dist_output_shape)([vec_output_a, vec_output_b])\n",
    "model = Model([input_a, input_b], output)"
   ]
  },
  {
   "cell_type": "code",
   "execution_count": 14,
   "metadata": {},
   "outputs": [],
   "source": [
    "def contrastive_loss_with_margin(margin):\n",
    "\n",
    "    def contrastive_loss(y_true, y_pred):\n",
    "        sq_pred = K.square(y_pred)\n",
    "        margin_sq = K.square(K.maximum(margin - y_pred, 0))\n",
    "        return K.mean(y_true * sq_pred + (1 - y_true) * margin_sq)\n",
    "\n",
    "    return contrastive_loss"
   ]
  },
  {
   "cell_type": "code",
   "execution_count": 15,
   "metadata": {},
   "outputs": [
    {
     "name": "stdout",
     "output_type": "stream",
     "text": [
      "Epoch 1/20\n",
      "938/938 [==============================] - 8s 6ms/step - loss: 0.1155 - val_loss: 0.0844\n",
      "Epoch 2/20\n",
      "938/938 [==============================] - 5s 6ms/step - loss: 0.0805 - val_loss: 0.0729\n",
      "Epoch 3/20\n",
      "938/938 [==============================] - 5s 6ms/step - loss: 0.0713 - val_loss: 0.0702\n",
      "Epoch 4/20\n",
      "938/938 [==============================] - 5s 6ms/step - loss: 0.0660 - val_loss: 0.0716\n",
      "Epoch 5/20\n",
      "938/938 [==============================] - 5s 6ms/step - loss: 0.0638 - val_loss: 0.0684\n",
      "Epoch 6/20\n",
      "938/938 [==============================] - 5s 6ms/step - loss: 0.0617 - val_loss: 0.0659\n",
      "Epoch 7/20\n",
      "938/938 [==============================] - 6s 6ms/step - loss: 0.0603 - val_loss: 0.0666\n",
      "Epoch 8/20\n",
      "938/938 [==============================] - 6s 6ms/step - loss: 0.0593 - val_loss: 0.0663\n",
      "Epoch 9/20\n",
      "938/938 [==============================] - 5s 6ms/step - loss: 0.0577 - val_loss: 0.0645\n",
      "Epoch 10/20\n",
      "938/938 [==============================] - 5s 6ms/step - loss: 0.0570 - val_loss: 0.0643\n",
      "Epoch 11/20\n",
      "938/938 [==============================] - 6s 6ms/step - loss: 0.0560 - val_loss: 0.0652\n",
      "Epoch 12/20\n",
      "938/938 [==============================] - 6s 7ms/step - loss: 0.0559 - val_loss: 0.0659\n",
      "Epoch 13/20\n",
      "938/938 [==============================] - 7s 8ms/step - loss: 0.0551 - val_loss: 0.0666\n",
      "Epoch 14/20\n",
      "938/938 [==============================] - 8s 9ms/step - loss: 0.0543 - val_loss: 0.0643\n",
      "Epoch 15/20\n",
      "938/938 [==============================] - 7s 7ms/step - loss: 0.0537 - val_loss: 0.0646\n",
      "Epoch 16/20\n",
      "938/938 [==============================] - 6s 6ms/step - loss: 0.0534 - val_loss: 0.0644\n",
      "Epoch 17/20\n",
      "938/938 [==============================] - 5s 6ms/step - loss: 0.0529 - val_loss: 0.0650\n",
      "Epoch 18/20\n",
      "938/938 [==============================] - 5s 6ms/step - loss: 0.0528 - val_loss: 0.0662\n",
      "Epoch 19/20\n",
      "938/938 [==============================] - 5s 6ms/step - loss: 0.0521 - val_loss: 0.0653\n",
      "Epoch 20/20\n",
      "938/938 [==============================] - 5s 6ms/step - loss: 0.0520 - val_loss: 0.0651\n",
      "625/625 [==============================] - 2s 2ms/step - loss: 0.0651\n"
     ]
    }
   ],
   "source": [
    "rms = RMSprop()\n",
    "model.compile(loss=contrastive_loss_with_margin(1), optimizer=rms)\n",
    "history = model.fit([tr_pairs[:, 0], tr_pairs[:, 1]],\n",
    "                    tr_y,\n",
    "                    epochs=20,\n",
    "                    batch_size=128,\n",
    "                    validation_data=([ts_pairs[:, 0], ts_pairs[:, 1]], ts_y))\n",
    "loss = model.evaluate(x=[ts_pairs[:, 0], ts_pairs[:, 1]], y=ts_y)\n"
   ]
  },
  {
   "cell_type": "code",
   "execution_count": 16,
   "metadata": {},
   "outputs": [],
   "source": [
    "def compute_accuracy(y_true, y_pred):\n",
    "    pred = y_pred.ravel() > 0.5\n",
    "    return np.mean(y_true == pred)"
   ]
  },
  {
   "cell_type": "code",
   "execution_count": 17,
   "metadata": {},
   "outputs": [],
   "source": [
    "y_pred_train = model.predict([tr_pairs[:,0], tr_pairs[:,1]])\n",
    "train_accuracy = compute_accuracy(tr_y, y_pred_train)\n",
    "\n",
    "y_pred_test = model.predict([ts_pairs[:,0], ts_pairs[:,1]])\n",
    "test_accuracy = compute_accuracy(ts_y, y_pred_test)"
   ]
  },
  {
   "cell_type": "code",
   "execution_count": 18,
   "metadata": {},
   "outputs": [
    {
     "data": {
      "text/plain": [
       "(0.06305217536256043, 0.09014014014014014)"
      ]
     },
     "execution_count": 18,
     "metadata": {},
     "output_type": "execute_result"
    }
   ],
   "source": [
    "train_accuracy, test_accuracy"
   ]
  }
 ],
 "metadata": {
  "interpreter": {
   "hash": "1cfb9b8fc2aa05cd2f03010444f4bf2bf517d2be05582e3f9faf36ad25271df3"
  },
  "kernelspec": {
   "display_name": "Python 3.7.7 64-bit (system)",
   "language": "python",
   "name": "python3"
  },
  "language_info": {
   "codemirror_mode": {
    "name": "ipython",
    "version": 3
   },
   "file_extension": ".py",
   "mimetype": "text/x-python",
   "name": "python",
   "nbconvert_exporter": "python",
   "pygments_lexer": "ipython3",
   "version": "3.7.9"
  },
  "orig_nbformat": 4
 },
 "nbformat": 4,
 "nbformat_minor": 2
}
